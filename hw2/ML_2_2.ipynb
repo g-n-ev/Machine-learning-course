{
 "cells": [
  {
   "cell_type": "code",
   "execution_count": 1,
   "metadata": {
    "collapsed": true
   },
   "outputs": [],
   "source": [
    "import numpy as np\n",
    "import pandas as pd\n",
    "from sklearn import datasets\n",
    "from sklearn.tree import DecisionTreeClassifier\n",
    "from sklearn.cross_validation import cross_val_score, train_test_split\n",
    "import matplotlib.pyplot as plt\n",
    "import scipy.optimize as opt\n",
    "%matplotlib inline"
   ]
  },
  {
   "cell_type": "code",
   "execution_count": 2,
   "metadata": {
    "collapsed": true
   },
   "outputs": [],
   "source": [
    "data = datasets.load_boston()"
   ]
  },
  {
   "cell_type": "code",
   "execution_count": 3,
   "metadata": {
    "collapsed": false
   },
   "outputs": [],
   "source": [
    "targets = pd.DataFrame(data['target'],columns=['targets'])"
   ]
  },
  {
   "cell_type": "code",
   "execution_count": 4,
   "metadata": {
    "collapsed": false
   },
   "outputs": [],
   "source": [
    "data = pd.DataFrame(data['data'], columns=data['feature_names'])"
   ]
  },
  {
   "cell_type": "code",
   "execution_count": 5,
   "metadata": {
    "collapsed": false
   },
   "outputs": [
    {
     "data": {
      "text/html": [
       "<div>\n",
       "<table border=\"1\" class=\"dataframe\">\n",
       "  <thead>\n",
       "    <tr style=\"text-align: right;\">\n",
       "      <th></th>\n",
       "      <th>CRIM</th>\n",
       "      <th>ZN</th>\n",
       "      <th>INDUS</th>\n",
       "      <th>CHAS</th>\n",
       "      <th>NOX</th>\n",
       "      <th>RM</th>\n",
       "      <th>AGE</th>\n",
       "      <th>DIS</th>\n",
       "      <th>RAD</th>\n",
       "      <th>TAX</th>\n",
       "      <th>PTRATIO</th>\n",
       "      <th>B</th>\n",
       "      <th>LSTAT</th>\n",
       "    </tr>\n",
       "  </thead>\n",
       "  <tbody>\n",
       "    <tr>\n",
       "      <th>0</th>\n",
       "      <td>0.00632</td>\n",
       "      <td>18.0</td>\n",
       "      <td>2.31</td>\n",
       "      <td>0.0</td>\n",
       "      <td>0.538</td>\n",
       "      <td>6.575</td>\n",
       "      <td>65.2</td>\n",
       "      <td>4.0900</td>\n",
       "      <td>1.0</td>\n",
       "      <td>296.0</td>\n",
       "      <td>15.3</td>\n",
       "      <td>396.90</td>\n",
       "      <td>4.98</td>\n",
       "    </tr>\n",
       "    <tr>\n",
       "      <th>1</th>\n",
       "      <td>0.02731</td>\n",
       "      <td>0.0</td>\n",
       "      <td>7.07</td>\n",
       "      <td>0.0</td>\n",
       "      <td>0.469</td>\n",
       "      <td>6.421</td>\n",
       "      <td>78.9</td>\n",
       "      <td>4.9671</td>\n",
       "      <td>2.0</td>\n",
       "      <td>242.0</td>\n",
       "      <td>17.8</td>\n",
       "      <td>396.90</td>\n",
       "      <td>9.14</td>\n",
       "    </tr>\n",
       "    <tr>\n",
       "      <th>2</th>\n",
       "      <td>0.02729</td>\n",
       "      <td>0.0</td>\n",
       "      <td>7.07</td>\n",
       "      <td>0.0</td>\n",
       "      <td>0.469</td>\n",
       "      <td>7.185</td>\n",
       "      <td>61.1</td>\n",
       "      <td>4.9671</td>\n",
       "      <td>2.0</td>\n",
       "      <td>242.0</td>\n",
       "      <td>17.8</td>\n",
       "      <td>392.83</td>\n",
       "      <td>4.03</td>\n",
       "    </tr>\n",
       "    <tr>\n",
       "      <th>3</th>\n",
       "      <td>0.03237</td>\n",
       "      <td>0.0</td>\n",
       "      <td>2.18</td>\n",
       "      <td>0.0</td>\n",
       "      <td>0.458</td>\n",
       "      <td>6.998</td>\n",
       "      <td>45.8</td>\n",
       "      <td>6.0622</td>\n",
       "      <td>3.0</td>\n",
       "      <td>222.0</td>\n",
       "      <td>18.7</td>\n",
       "      <td>394.63</td>\n",
       "      <td>2.94</td>\n",
       "    </tr>\n",
       "    <tr>\n",
       "      <th>4</th>\n",
       "      <td>0.06905</td>\n",
       "      <td>0.0</td>\n",
       "      <td>2.18</td>\n",
       "      <td>0.0</td>\n",
       "      <td>0.458</td>\n",
       "      <td>7.147</td>\n",
       "      <td>54.2</td>\n",
       "      <td>6.0622</td>\n",
       "      <td>3.0</td>\n",
       "      <td>222.0</td>\n",
       "      <td>18.7</td>\n",
       "      <td>396.90</td>\n",
       "      <td>5.33</td>\n",
       "    </tr>\n",
       "  </tbody>\n",
       "</table>\n",
       "</div>"
      ],
      "text/plain": [
       "      CRIM    ZN  INDUS  CHAS    NOX     RM   AGE     DIS  RAD    TAX  \\\n",
       "0  0.00632  18.0   2.31   0.0  0.538  6.575  65.2  4.0900  1.0  296.0   \n",
       "1  0.02731   0.0   7.07   0.0  0.469  6.421  78.9  4.9671  2.0  242.0   \n",
       "2  0.02729   0.0   7.07   0.0  0.469  7.185  61.1  4.9671  2.0  242.0   \n",
       "3  0.03237   0.0   2.18   0.0  0.458  6.998  45.8  6.0622  3.0  222.0   \n",
       "4  0.06905   0.0   2.18   0.0  0.458  7.147  54.2  6.0622  3.0  222.0   \n",
       "\n",
       "   PTRATIO       B  LSTAT  \n",
       "0     15.3  396.90   4.98  \n",
       "1     17.8  396.90   9.14  \n",
       "2     17.8  392.83   4.03  \n",
       "3     18.7  394.63   2.94  \n",
       "4     18.7  396.90   5.33  "
      ]
     },
     "execution_count": 5,
     "metadata": {},
     "output_type": "execute_result"
    }
   ],
   "source": [
    "data.head()"
   ]
  },
  {
   "cell_type": "code",
   "execution_count": 5,
   "metadata": {
    "collapsed": false
   },
   "outputs": [],
   "source": [
    "data_train = data[:378]\n",
    "data_test = data[378:]\n",
    "target_train =targets[:378]\n",
    "target_test = targets[378:]"
   ]
  },
  {
   "cell_type": "code",
   "execution_count": 6,
   "metadata": {
    "collapsed": false
   },
   "outputs": [
    {
     "data": {
      "text/html": [
       "<div>\n",
       "<table border=\"1\" class=\"dataframe\">\n",
       "  <thead>\n",
       "    <tr style=\"text-align: right;\">\n",
       "      <th></th>\n",
       "      <th>CRIM</th>\n",
       "      <th>ZN</th>\n",
       "      <th>INDUS</th>\n",
       "      <th>CHAS</th>\n",
       "      <th>NOX</th>\n",
       "      <th>RM</th>\n",
       "      <th>AGE</th>\n",
       "      <th>DIS</th>\n",
       "      <th>RAD</th>\n",
       "      <th>TAX</th>\n",
       "      <th>PTRATIO</th>\n",
       "      <th>B</th>\n",
       "      <th>LSTAT</th>\n",
       "    </tr>\n",
       "  </thead>\n",
       "  <tbody>\n",
       "    <tr>\n",
       "      <th>0</th>\n",
       "      <td>0.00632</td>\n",
       "      <td>18.0</td>\n",
       "      <td>2.31</td>\n",
       "      <td>0.0</td>\n",
       "      <td>0.538</td>\n",
       "      <td>6.575</td>\n",
       "      <td>65.2</td>\n",
       "      <td>4.0900</td>\n",
       "      <td>1.0</td>\n",
       "      <td>296.0</td>\n",
       "      <td>15.3</td>\n",
       "      <td>396.90</td>\n",
       "      <td>4.98</td>\n",
       "    </tr>\n",
       "    <tr>\n",
       "      <th>1</th>\n",
       "      <td>0.02731</td>\n",
       "      <td>0.0</td>\n",
       "      <td>7.07</td>\n",
       "      <td>0.0</td>\n",
       "      <td>0.469</td>\n",
       "      <td>6.421</td>\n",
       "      <td>78.9</td>\n",
       "      <td>4.9671</td>\n",
       "      <td>2.0</td>\n",
       "      <td>242.0</td>\n",
       "      <td>17.8</td>\n",
       "      <td>396.90</td>\n",
       "      <td>9.14</td>\n",
       "    </tr>\n",
       "    <tr>\n",
       "      <th>2</th>\n",
       "      <td>0.02729</td>\n",
       "      <td>0.0</td>\n",
       "      <td>7.07</td>\n",
       "      <td>0.0</td>\n",
       "      <td>0.469</td>\n",
       "      <td>7.185</td>\n",
       "      <td>61.1</td>\n",
       "      <td>4.9671</td>\n",
       "      <td>2.0</td>\n",
       "      <td>242.0</td>\n",
       "      <td>17.8</td>\n",
       "      <td>392.83</td>\n",
       "      <td>4.03</td>\n",
       "    </tr>\n",
       "    <tr>\n",
       "      <th>3</th>\n",
       "      <td>0.03237</td>\n",
       "      <td>0.0</td>\n",
       "      <td>2.18</td>\n",
       "      <td>0.0</td>\n",
       "      <td>0.458</td>\n",
       "      <td>6.998</td>\n",
       "      <td>45.8</td>\n",
       "      <td>6.0622</td>\n",
       "      <td>3.0</td>\n",
       "      <td>222.0</td>\n",
       "      <td>18.7</td>\n",
       "      <td>394.63</td>\n",
       "      <td>2.94</td>\n",
       "    </tr>\n",
       "    <tr>\n",
       "      <th>4</th>\n",
       "      <td>0.06905</td>\n",
       "      <td>0.0</td>\n",
       "      <td>2.18</td>\n",
       "      <td>0.0</td>\n",
       "      <td>0.458</td>\n",
       "      <td>7.147</td>\n",
       "      <td>54.2</td>\n",
       "      <td>6.0622</td>\n",
       "      <td>3.0</td>\n",
       "      <td>222.0</td>\n",
       "      <td>18.7</td>\n",
       "      <td>396.90</td>\n",
       "      <td>5.33</td>\n",
       "    </tr>\n",
       "  </tbody>\n",
       "</table>\n",
       "</div>"
      ],
      "text/plain": [
       "      CRIM    ZN  INDUS  CHAS    NOX     RM   AGE     DIS  RAD    TAX  \\\n",
       "0  0.00632  18.0   2.31   0.0  0.538  6.575  65.2  4.0900  1.0  296.0   \n",
       "1  0.02731   0.0   7.07   0.0  0.469  6.421  78.9  4.9671  2.0  242.0   \n",
       "2  0.02729   0.0   7.07   0.0  0.469  7.185  61.1  4.9671  2.0  242.0   \n",
       "3  0.03237   0.0   2.18   0.0  0.458  6.998  45.8  6.0622  3.0  222.0   \n",
       "4  0.06905   0.0   2.18   0.0  0.458  7.147  54.2  6.0622  3.0  222.0   \n",
       "\n",
       "   PTRATIO       B  LSTAT  \n",
       "0     15.3  396.90   4.98  \n",
       "1     17.8  396.90   9.14  \n",
       "2     17.8  392.83   4.03  \n",
       "3     18.7  394.63   2.94  \n",
       "4     18.7  396.90   5.33  "
      ]
     },
     "execution_count": 6,
     "metadata": {},
     "output_type": "execute_result"
    }
   ],
   "source": [
    "data_train.head()"
   ]
  },
  {
   "cell_type": "markdown",
   "metadata": {},
   "source": [
    "Алгоритм:\n",
    "Просмотрим все признаки. Посчитаем минимум в MSE в линейной регрессии. Делить в вершине будем по признаку, имеющему наименьшую ошибку. При этом каждый раз рассматриваем признаки, еще не фигурировавшие в разделении. Далее каждую вершину разделим по принципу: значение признака, по которому делим выборку, больше среднего значения этого признака в выборке или же меньше. Метод predict работает также на сравнении значения признака со средним. В качестве ответа выдается среднее значение из листа."
   ]
  },
  {
   "cell_type": "code",
   "execution_count": 495,
   "metadata": {
    "collapsed": false
   },
   "outputs": [],
   "source": [
    "class Decision_tree():\n",
    "    def __init__(self, max_depth = 3, split_l=[] , split_r = [], T = [], feach_for_div = [], answers_l = [], answers_r = []):\n",
    "        self.max_depth = max_depth\n",
    "        self.split_l = split_l\n",
    "        self.split_r = split_r\n",
    "        self.features = []\n",
    "        self.T = T\n",
    "        self.feach_for_div = feach_for_div\n",
    "        self.answers_l = answers_l\n",
    "        self.answers_r = answers_r\n",
    "    def fit(self, data, target):\n",
    "        self.features = data.columns\n",
    "        res_x = []\n",
    "        res_fun = []\n",
    "        \"MSE\"\n",
    "        def error(args,dat,target):\n",
    "            err = (args[0]*dat + args[1] - target).T.dot(args[0]*dat + args[1] - target)\n",
    "            return err.values[0][0]\n",
    "        for depth in range(1,self.max_depth+1):\n",
    "            if depth == 1:\n",
    "                \"Поиск признака с наименьшей ошибкой\"\n",
    "                for feach in self.features:\n",
    "                    if feach not in self.feach_for_div[(len(self.feach_for_div)/len(self.features))*len(self.features):]:\n",
    "                        dat = data[feach].reshape(data.shape[0],1)\n",
    "                        optim = opt.minimize(fun = error, x0 = [1.0,1.0], method = 'Nelder-Mead', tol = 1e-6 , args = (dat,target))\n",
    "                        res_x.append(optim.x)\n",
    "                        res_fun.append(optim.fun)\n",
    "                    else:\n",
    "                        res_x.append((1,1))\n",
    "                        res_fun.append(100000000)\n",
    "                feach_for_split = res_fun.index(min(res_fun))\n",
    "                self.T.append(data[self.features[feach_for_split]].mean())\n",
    "                spl_r = []\n",
    "                spl_l = []\n",
    "                \"Построение разбиений\"\n",
    "                for t in range(len(data[self.features[feach_for_split]])):\n",
    "                    elem = data[self.features[feach_for_split]][data.index[t]]\n",
    "                    if elem > self.T[-1]:\n",
    "                        spl_r.append(data.index[t])\n",
    "                    else:\n",
    "                        spl_l.append(data.index[t])\n",
    "                self.split_l.append(spl_l)\n",
    "                self.answers_l.append(target.ix[spl_l].values.mean())\n",
    "                self.answers_r.append(target.ix[spl_r].values.mean())\n",
    "                self.split_r.append(spl_r)\n",
    "                self.feach_for_div.append(self.features[feach_for_split])\n",
    "            else:\n",
    "                \"рекурсивное обучение\"\n",
    "                for point in range(2**(depth-2)):\n",
    "                    clf = Decision_tree(max_depth = 1, split_l = self.split_l, split_r = self.split_r, T = self.T, \n",
    "                                        feach_for_div=self.feach_for_div, answers_l = self.answers_l, answers_r = self.answers_r)\n",
    "                    clf.fit(pd.DataFrame(data.ix[self.split_l[2**(depth-2) - 1 + point]].values, columns=data.columns, index = self.split_l[2**(depth-2) - 1 + point]),\n",
    "                            pd.DataFrame(target.ix[self.split_l[2**(depth-2) - 1 + point]].values,columns=target.columns, index = self.split_l[2**(depth-2) - 1 + point]))\n",
    "                    clf.fit(pd.DataFrame(data.ix[self.split_r[2**(depth-2) - 1 + point]].values, columns=data.columns, index = self.split_r[2**(depth-2) - 1 + point]),\n",
    "                            pd.DataFrame(target.ix[self.split_r[2**(depth-2) - 1 + point]].values,columns=target.columns, index = self.split_r[2**(depth-2) - 1 + point]))\n",
    "                \n",
    "    def predict(self,data_test):\n",
    "        def num(d):\n",
    "            num = 0\n",
    "            for k in range(len(d)):\n",
    "                num = (num*2 + 1) + d[k] \n",
    "            return num\n",
    "        import copy\n",
    "        data_res = copy.deepcopy(data_test)\n",
    "        ans_predicted = []\n",
    "        for j in range(data_res.shape[0]):\n",
    "            elem = data_res.values[j]\n",
    "            direction = [] # 1 = направо, 0 = налево\n",
    "            \"Вычисление положения в дереве\"\n",
    "            for i in range(self.max_depth):\n",
    "                if i == 0:\n",
    "                    if elem[self.features.get_loc(self.feach_for_div[0])] > self.T[0]:\n",
    "                        direction.append(1)\n",
    "                    else:\n",
    "                        direction.append(0)\n",
    "                else:\n",
    "                    if elem[self.features.get_loc(self.feach_for_div[num(direction)])] > self.T[num(direction)]:\n",
    "                        direction.append(1)\n",
    "                    else:\n",
    "                        direction.append(0)\n",
    "            \"Решение для элемента\"\n",
    "            if direction[-1] == 0:\n",
    "                ans_predicted.append(self.answers_l[(num(direction)-1)/2])\n",
    "            else:\n",
    "                ans_predicted.append(self.answers_r[(num(direction)-1)/2])\n",
    "        return pd.DataFrame(ans_predicted, index=data_res.index)\n",
    "    def error(self, target_predicted, target):\n",
    "        err = (np.array(target_predicted.values - target.values)).T.dot(np.array(target_predicted.values - target.values))\n",
    "        return err[0][0]"
   ]
  },
  {
   "cell_type": "code",
   "execution_count": 499,
   "metadata": {
    "collapsed": false,
    "scrolled": false
   },
   "outputs": [],
   "source": [
    "clf = Decision_tree(max_depth = 3,split_l=[],split_r=[], feach_for_div=[], T= [], answers_l=[], answers_r=[])\n",
    "clf.fit(data_train, target_train)"
   ]
  },
  {
   "cell_type": "code",
   "execution_count": 504,
   "metadata": {
    "collapsed": false
   },
   "outputs": [],
   "source": [
    "result = clf.predict(data_test = data_test)"
   ]
  },
  {
   "cell_type": "code",
   "execution_count": 505,
   "metadata": {
    "collapsed": false
   },
   "outputs": [
    {
     "data": {
      "text/html": [
       "<div>\n",
       "<table border=\"1\" class=\"dataframe\">\n",
       "  <thead>\n",
       "    <tr style=\"text-align: right;\">\n",
       "      <th></th>\n",
       "      <th>0</th>\n",
       "    </tr>\n",
       "  </thead>\n",
       "  <tbody>\n",
       "    <tr>\n",
       "      <th>378</th>\n",
       "      <td>24.351515</td>\n",
       "    </tr>\n",
       "    <tr>\n",
       "      <th>379</th>\n",
       "      <td>17.290164</td>\n",
       "    </tr>\n",
       "    <tr>\n",
       "      <th>380</th>\n",
       "      <td>24.351515</td>\n",
       "    </tr>\n",
       "    <tr>\n",
       "      <th>381</th>\n",
       "      <td>24.351515</td>\n",
       "    </tr>\n",
       "    <tr>\n",
       "      <th>382</th>\n",
       "      <td>17.290164</td>\n",
       "    </tr>\n",
       "    <tr>\n",
       "      <th>383</th>\n",
       "      <td>17.290164</td>\n",
       "    </tr>\n",
       "    <tr>\n",
       "      <th>384</th>\n",
       "      <td>17.290164</td>\n",
       "    </tr>\n",
       "    <tr>\n",
       "      <th>385</th>\n",
       "      <td>17.290164</td>\n",
       "    </tr>\n",
       "    <tr>\n",
       "      <th>386</th>\n",
       "      <td>17.290164</td>\n",
       "    </tr>\n",
       "    <tr>\n",
       "      <th>387</th>\n",
       "      <td>17.290164</td>\n",
       "    </tr>\n",
       "  </tbody>\n",
       "</table>\n",
       "</div>"
      ],
      "text/plain": [
       "             0\n",
       "378  24.351515\n",
       "379  17.290164\n",
       "380  24.351515\n",
       "381  24.351515\n",
       "382  17.290164\n",
       "383  17.290164\n",
       "384  17.290164\n",
       "385  17.290164\n",
       "386  17.290164\n",
       "387  17.290164"
      ]
     },
     "execution_count": 505,
     "metadata": {},
     "output_type": "execute_result"
    }
   ],
   "source": [
    "result.head(10)"
   ]
  },
  {
   "cell_type": "code",
   "execution_count": 507,
   "metadata": {
    "collapsed": false
   },
   "outputs": [
    {
     "name": "stdout",
     "output_type": "stream",
     "text": [
      "Ошибка на тестовых данных:  7250.74741447\n",
      "Ошибка на обучающих данных:  15102.6632611\n",
      "Средняя ошибка на тестовых данных:  56.6464641756\n",
      "Средняя ошибка на обучающих данных:  39.9541356115\n"
     ]
    }
   ],
   "source": [
    "print \"Ошибка на тестовых данных: \", clf.error(result, target_test)\n",
    "print \"Ошибка на обучающих данных: \", clf.error(clf.predict(data_train), target_train)\n",
    "print \"Средняя ошибка на тестовых данных: \", clf.error(result, target_test)/np.shape(target_test)[0]\n",
    "print \"Средняя ошибка на обучающих данных: \", clf.error(clf.predict(data_train), target_train)/np.shape(target_train)[0]"
   ]
  },
  {
   "cell_type": "markdown",
   "metadata": {},
   "source": []
  }
 ],
 "metadata": {
  "kernelspec": {
   "display_name": "Python 2",
   "language": "python",
   "name": "python2"
  },
  "language_info": {
   "codemirror_mode": {
    "name": "ipython",
    "version": 2
   },
   "file_extension": ".py",
   "mimetype": "text/x-python",
   "name": "python",
   "nbconvert_exporter": "python",
   "pygments_lexer": "ipython2",
   "version": "2.7.12"
  }
 },
 "nbformat": 4,
 "nbformat_minor": 0
}
